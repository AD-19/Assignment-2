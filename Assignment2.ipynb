{
 "cells": [
  {
   "cell_type": "markdown",
   "id": "a6ee9604",
   "metadata": {},
   "source": [
    "### cons.ipynb"
   ]
  },
  {
   "cell_type": "code",
   "execution_count": null,
   "id": "e91d44c2",
   "metadata": {},
   "outputs": [],
   "source": [
    "#Same here, paste the input in between the '''\n",
    "s='''\n",
    "\n",
    "'''\n",
    "\n",
    "seqs=[]\n",
    "seq=''\n",
    "\n",
    "for ligne in s.strip().split('\\n'):\n",
    " if ligne.startswith('>'):\n",
    "  if seq:\n",
    "   seqs.append(seq)\n",
    "   seq=''\n",
    " else:\n",
    "  seq+=ligne.strip()\n",
    "\n",
    "seqs.append(seq)\n",
    "n=len(seqs[0])\n",
    "profil={'A':[0]*n,'C':[0]*n,'G':[0]*n,'T':[0]*n}\n",
    "\n",
    "for seq in seqs:\n",
    " for i,nuc in enumerate(seq):\n",
    "  profil[nuc][i]+=1\n",
    "\n",
    "consensus=''\n",
    "for i in range(n):\n",
    " max_count=0\n",
    " max_nuc=''\n",
    " for nuc in 'ACGT':\n",
    "  if profil[nuc][i]>max_count:\n",
    "   max_count=profil[nuc][i]\n",
    "   max_nuc=nuc\n",
    " consensus+=max_nuc\n",
    "\n",
    "print(consensus)\n",
    "for nuc in 'ACGT':\n",
    " print(f\"{nuc}: {' '.join(map(str,profil[nuc]))}\")\n"
   ]
  },
  {
   "cell_type": "markdown",
   "id": "32b08d6a",
   "metadata": {},
   "source": [
    "### fibd.ipynb"
   ]
  },
  {
   "cell_type": "code",
   "execution_count": null,
   "id": "a48d314d",
   "metadata": {},
   "outputs": [
    {
     "name": "stdout",
     "output_type": "stream",
     "text": [
      "159121307718215777\n"
     ]
    }
   ],
   "source": [
    "n, m = map(int, input().split())\n",
    "ages = [0] * m\n",
    "ages[0] = 1\n",
    "for i in range(1, n):\n",
    "    new = sum(ages[1:])\n",
    "    ages = [new] + ages[:-1]\n",
    "print(sum(ages))"
   ]
  },
  {
   "cell_type": "markdown",
   "id": "4846b74f",
   "metadata": {},
   "source": [
    "### lcsm.ipynb"
   ]
  },
  {
   "cell_type": "code",
   "execution_count": null,
   "id": "3e1d059b",
   "metadata": {},
   "outputs": [],
   "source": [
    "#Paste input between the ''' (as given in Rosalina)\n",
    "s='''\n",
    "\n",
    "'''\n",
    "\n",
    "seqs=[]\n",
    "for part in s.strip().split('>'):\n",
    " if part:\n",
    "  lines=part.strip().split('\\n')\n",
    "  seq=''.join(lines[1:])\n",
    "  seqs.append(seq)\n",
    "shortest_seq=min(seqs,key=len)\n",
    "found=False\n",
    "for length in range(len(shortest_seq),0,-1):\n",
    " for start in range(len(shortest_seq)-length+1):\n",
    "  substr=shortest_seq[start:start+length]\n",
    "  if all(substr in seq for seq in seqs):\n",
    "   print(substr)\n",
    "   found=True\n",
    "   break\n",
    " if found:\n",
    "  break\n"
   ]
  },
  {
   "cell_type": "markdown",
   "id": "0e105b8f",
   "metadata": {},
   "source": [
    "### lia.ipynb"
   ]
  },
  {
   "cell_type": "code",
   "execution_count": 3,
   "id": "69273dd5",
   "metadata": {},
   "outputs": [
    {
     "name": "stdout",
     "output_type": "stream",
     "text": [
      "0.406\n"
     ]
    }
   ],
   "source": [
    "from math import comb #stackoverflow, otherwise could just define binomial etc\n",
    "\n",
    "def prob_au_moins(k, N):\n",
    "    total=2**k\n",
    "    p=0.25\n",
    "    prob=0\n",
    "    for i in range(N, total+1):\n",
    "        prob+=comb(total,i)*(p**i)*((1-p)**(total-i))\n",
    "    return prob\n",
    "\n",
    "k, N = map(int, input().split())\n",
    "resultat=prob_au_moins(k, N)\n",
    "print(f\"{resultat:.3f}\")\n"
   ]
  },
  {
   "cell_type": "markdown",
   "id": "06d03e60",
   "metadata": {},
   "source": [
    "### Mark_Toys.ipynb"
   ]
  },
  {
   "cell_type": "code",
   "execution_count": null,
   "id": "90e250f5",
   "metadata": {},
   "outputs": [],
   "source": [
    "#Works on hackerrank\n",
    "\n",
    "import math\n",
    "import os\n",
    "import random\n",
    "import re\n",
    "import sys\n",
    "\n",
    "\n",
    "def maximumToys(prices, k):\n",
    "    prices.sort()\n",
    "    total=0\n",
    "    count=0\n",
    "    for price in prices:\n",
    "        if total+price<=k:\n",
    "            total+=price\n",
    "            count+=1\n",
    "        else:\n",
    "            break\n",
    "    return count\n",
    "\n",
    "\n",
    "if __name__ == '__main__':\n",
    "    fptr = open(os.environ['OUTPUT_PATH'], 'w')\n",
    "\n",
    "    first_multiple_input = input().rstrip().split()\n",
    "\n",
    "    n = int(first_multiple_input[0])\n",
    "\n",
    "    k = int(first_multiple_input[1])\n",
    "\n",
    "    prices = list(map(int, input().rstrip().split()))\n",
    "\n",
    "    result = maximumToys(prices, k)\n",
    "\n",
    "    fptr.write(str(result) + '\\n')\n",
    "\n",
    "    fptr.close()"
   ]
  },
  {
   "cell_type": "markdown",
   "id": "1fe81a5d",
   "metadata": {},
   "source": [
    "### Max_perim_triangle.ipynb"
   ]
  },
  {
   "cell_type": "code",
   "execution_count": null,
   "id": "b32a7b46",
   "metadata": {},
   "outputs": [
    {
     "ename": "KeyError",
     "evalue": "'OUTPUT_PATH'",
     "output_type": "error",
     "traceback": [
      "\u001b[0;31m---------------------------------------------------------------------------\u001b[0m",
      "\u001b[0;31mKeyError\u001b[0m                                  Traceback (most recent call last)",
      "Cell \u001b[0;32mIn[1], line 34\u001b[0m\n\u001b[1;32m     30\u001b[0m     \u001b[38;5;28;01mreturn\u001b[39;00m best_triangle\n\u001b[1;32m     33\u001b[0m \u001b[38;5;28;01mif\u001b[39;00m \u001b[38;5;18m__name__\u001b[39m \u001b[38;5;241m==\u001b[39m \u001b[38;5;124m'\u001b[39m\u001b[38;5;124m__main__\u001b[39m\u001b[38;5;124m'\u001b[39m:\n\u001b[0;32m---> 34\u001b[0m     fptr \u001b[38;5;241m=\u001b[39m \u001b[38;5;28mopen\u001b[39m(\u001b[43mos\u001b[49m\u001b[38;5;241;43m.\u001b[39;49m\u001b[43menviron\u001b[49m\u001b[43m[\u001b[49m\u001b[38;5;124;43m'\u001b[39;49m\u001b[38;5;124;43mOUTPUT_PATH\u001b[39;49m\u001b[38;5;124;43m'\u001b[39;49m\u001b[43m]\u001b[49m, \u001b[38;5;124m'\u001b[39m\u001b[38;5;124mw\u001b[39m\u001b[38;5;124m'\u001b[39m)\n\u001b[1;32m     36\u001b[0m     n \u001b[38;5;241m=\u001b[39m \u001b[38;5;28mint\u001b[39m(\u001b[38;5;28minput\u001b[39m()\u001b[38;5;241m.\u001b[39mstrip())\n\u001b[1;32m     38\u001b[0m     sticks \u001b[38;5;241m=\u001b[39m \u001b[38;5;28mlist\u001b[39m(\u001b[38;5;28mmap\u001b[39m(\u001b[38;5;28mint\u001b[39m, \u001b[38;5;28minput\u001b[39m()\u001b[38;5;241m.\u001b[39mrstrip()\u001b[38;5;241m.\u001b[39msplit()))\n",
      "File \u001b[0;32m<frozen os>:685\u001b[0m, in \u001b[0;36m__getitem__\u001b[0;34m(self, key)\u001b[0m\n",
      "\u001b[0;31mKeyError\u001b[0m: 'OUTPUT_PATH'"
     ]
    }
   ],
   "source": [
    "#Fonctionne sur hackerrank\n",
    "\n",
    "import math\n",
    "import os\n",
    "import random\n",
    "import re\n",
    "import sys\n",
    "\n",
    "\n",
    "def maximumPerimeterTriangle(sticks):\n",
    "    sticks.sort()\n",
    "    n = len(sticks)\n",
    "    max_perimeter = -1\n",
    "    best_triangle = [-1]\n",
    "    for i in range(n - 1, 1, -1):\n",
    "        a = sticks[i - 2]\n",
    "        b = sticks[i - 1]\n",
    "        c = sticks[i]\n",
    "        if a + b > c:\n",
    "            perimeter = a + b + c\n",
    "            if perimeter > max_perimeter:\n",
    "                max_perimeter = perimeter\n",
    "                best_triangle = [a, b, c]\n",
    "            elif perimeter == max_perimeter:\n",
    "                if c > best_triangle[2]:\n",
    "                    best_triangle = [a, b, c]\n",
    "                elif c == best_triangle[2]:\n",
    "                    if a > best_triangle[0]:\n",
    "                        best_triangle = [a, b, c]\n",
    "    return best_triangle\n",
    "\n",
    "\n",
    "if __name__ == '__main__':\n",
    "    fptr = open(os.environ['OUTPUT_PATH'], 'w')\n",
    "\n",
    "    n = int(input().strip())\n",
    "\n",
    "    sticks = list(map(int, input().rstrip().split()))\n",
    "\n",
    "    result = maximumPerimeterTriangle(sticks)\n",
    "\n",
    "    fptr.write(' '.join(map(str, result)))\n",
    "    fptr.write('\\n')\n",
    "\n",
    "    fptr.close()\n"
   ]
  },
  {
   "cell_type": "markdown",
   "id": "fdf9ed7f",
   "metadata": {},
   "source": [
    "### mrna.ipynb"
   ]
  },
  {
   "cell_type": "code",
   "execution_count": null,
   "id": "0257896f",
   "metadata": {},
   "outputs": [
    {
     "name": "stdout",
     "output_type": "stream",
     "text": [
      "372992\n"
     ]
    }
   ],
   "source": [
    "protein=input().strip()\n",
    "mod=1000000\n",
    "#Create codon table by counting each \"double/triple\" etc in RNA codon list\n",
    "codon_table={'F':2,'L':6,'S':6,'Y':2,'C':2,'W':1,'P':4,'H':2,'Q':2,'R':6,'I':3,'M':1,'T':4,'N':2,'K':2,'V':4,'A':4,'D':2,'E':2,'G':4,'*':3}\n",
    "result=3\n",
    "for aa in protein:\n",
    "    result=(result*codon_table[aa])%mod\n",
    "print(result)"
   ]
  },
  {
   "cell_type": "markdown",
   "id": "0edb3314",
   "metadata": {},
   "source": [
    "### perm.ipynb"
   ]
  },
  {
   "cell_type": "code",
   "execution_count": null,
   "id": "e1216179",
   "metadata": {},
   "outputs": [],
   "source": [
    "def gen_perm(elems):\n",
    "    if len(elems) == 1:\n",
    "        return [elems]\n",
    "    resultat = []\n",
    "    for i in range(len(elems)):\n",
    "        elem = elems[i]\n",
    "        reste = elems[:i] + elems[i+1:]\n",
    "        for p in gen_perm(reste):\n",
    "            resultat.append([elem] + p)\n",
    "    return resultat\n",
    "\n",
    "n=int(input().strip())\n",
    "elems=list(range(1,n+1))\n",
    "permutations=gen_perm(elems)\n",
    "\n",
    "print(len(permutations))\n",
    "for p in permutations:\n",
    "    print(\" \".join(map(str,p)))\n",
    "\n",
    "\n",
    "#Or we could have used easily from itertools import permutations (stackoverflow)"
   ]
  },
  {
   "cell_type": "markdown",
   "id": "96084641",
   "metadata": {},
   "source": [
    "### prtm.ipynb"
   ]
  },
  {
   "cell_type": "code",
   "execution_count": 1,
   "id": "142551db",
   "metadata": {},
   "outputs": [
    {
     "name": "stdout",
     "output_type": "stream",
     "text": [
      "108917.019\n"
     ]
    }
   ],
   "source": [
    "protein=input().strip()\n",
    "mass_table={'A':71.03711,'C':103.00919,'D':115.02694,'E':129.04259,'F':147.06841,'G':57.02146,'H':137.05891,'I':113.08406,'K':128.09496,'L':113.08406,'M':131.04049,'N':114.04293,'P':97.05276,'Q':128.05858,'R':156.10111,'S':87.03203,'T':101.04768,'V':99.06841,'W':186.07931,'Y':163.06333}\n",
    "total_mass=0\n",
    "for aa in protein:\n",
    "    total_mass+=mass_table[aa]\n",
    "print(f\"{total_mass:.3f}\")"
   ]
  },
  {
   "cell_type": "markdown",
   "id": "6b648ccf",
   "metadata": {},
   "source": [
    "### revp.ipynb"
   ]
  },
  {
   "cell_type": "code",
   "execution_count": null,
   "id": "a01898d3",
   "metadata": {},
   "outputs": [],
   "source": [
    "#Same here, paste the input in between the '''\n",
    "s='''\n",
    "\n",
    "'''\n",
    "\n",
    "seqs=[]\n",
    "seq=''\n",
    "\n",
    "for line in s.strip().split('\\n'):\n",
    "    if line.startswith('>'):\n",
    "        if seq:\n",
    "            seqs.append(seq)\n",
    "            seq=''\n",
    "    else:\n",
    "        seq+=line.strip()\n",
    "\n",
    "seqs.append(seq)\n",
    "s=seqs[0]\n",
    "\n",
    "def complement_inverse(adn):\n",
    "    complement={'A':'T','T':'A','C':'G','G':'C'}\n",
    "    return ''.join(complement[base] for base in reversed(adn))\n",
    "\n",
    "resultats=[]\n",
    "for i in range(len(s)):\n",
    "    for longueur in range(4,13):  # Vérifie les longueurs de 4 à 12\n",
    "        if i+longueur<=len(s):\n",
    "            sous_sequence=s[i:i+longueur]\n",
    "            if sous_sequence==complement_inverse(sous_sequence):\n",
    "                resultats.append((i+1,longueur))\n",
    "\n",
    "for pos,longueur in resultats:\n",
    "    print(pos,longueur)\n"
   ]
  },
  {
   "cell_type": "markdown",
   "id": "245a1f12",
   "metadata": {},
   "source": [
    "### splc.ipynb"
   ]
  },
  {
   "cell_type": "code",
   "execution_count": null,
   "id": "da0e46c0",
   "metadata": {},
   "outputs": [],
   "source": [
    "#Same here, paste the input in between the '''\n",
    "s='''\n",
    "\n",
    "'''\n",
    "\n",
    "seqs=[]\n",
    "seq=''\n",
    "\n",
    "for line in s.strip().split('\\n'):\n",
    " if line.startswith('>'):\n",
    "  if seq:\n",
    "   seqs.append(seq)\n",
    "   seq=''\n",
    " else:\n",
    "  seq+=line.strip()\n",
    "\n",
    "seqs.append(seq)\n",
    "s=seqs[0]\n",
    "introns=seqs[1:]\n",
    "for intron in introns:\n",
    " s=s.replace(intron,'')\n",
    "s=s.replace('T','U')\n",
    "\n",
    "codon_table={\n",
    "'UUU':'F','CUU':'L','AUU':'I','GUU':'V',\n",
    "'UUC':'F','CUC':'L','AUC':'I','GUC':'V',\n",
    "'UUA':'L','CUA':'L','AUA':'I','GUA':'V',\n",
    "'UUG':'L','CUG':'L','AUG':'M','GUG':'V',\n",
    "'UCU':'S','CCU':'P','ACU':'T','GCU':'A',\n",
    "'UCC':'S','CCC':'P','ACC':'T','GCC':'A',\n",
    "'UCA':'S','CCA':'P','ACA':'T','GCA':'A',\n",
    "'UCG':'S','CCG':'P','ACG':'T','GCG':'A',\n",
    "'UAU':'Y','CAU':'H','AAU':'N','GAU':'D',\n",
    "'UAC':'Y','CAC':'H','AAC':'N','GAC':'D',\n",
    "'UAA':'Stop','CAA':'Q','AAA':'K','GAA':'E',\n",
    "'UAG':'Stop','CAG':'Q','AAG':'K','GAG':'E',\n",
    "'UGU':'C','CGU':'R','AGU':'S','GGU':'G',\n",
    "'UGC':'C','CGC':'R','AGC':'S','GGC':'G',\n",
    "'UGA':'Stop','CGA':'R','AGA':'R','GGA':'G',\n",
    "'UGG':'W','CGG':'R','AGG':'R','GGG':'G'}\n",
    "\n",
    "protein=''\n",
    "\n",
    "for i in range(0,len(s)-2,3):\n",
    " codon=s[i:i+3]\n",
    " amino_acid=codon_table.get(codon)\n",
    " if amino_acid=='Stop':\n",
    "  break\n",
    " if amino_acid:\n",
    "  protein+=amino_acid\n",
    "print(protein)"
   ]
  },
  {
   "cell_type": "markdown",
   "id": "e661b230",
   "metadata": {},
   "source": [
    "### tran.ipynb"
   ]
  },
  {
   "cell_type": "code",
   "execution_count": null,
   "id": "f8fb0602",
   "metadata": {},
   "outputs": [
    {
     "name": "stdout",
     "output_type": "stream",
     "text": [
      "1.9891304347826086\n"
     ]
    }
   ],
   "source": [
    "#Same here, paste the input in between the '''\n",
    "s='''\n",
    "\n",
    "'''\n",
    "seqs=[]\n",
    "seq=''\n",
    "for line in s.strip().split('\\n'):\n",
    " if line.startswith('>'):\n",
    "  if seq:\n",
    "   seqs.append(seq)\n",
    "   seq=''\n",
    " else:\n",
    "  seq+=line.strip()\n",
    "seqs.append(seq)\n",
    "\n",
    "s1,s2=seqs[0],seqs[1]\n",
    "transitions={('A','G'),('G','A'),('C','T'),('T','C')}\n",
    "ti=tv=0\n",
    "\n",
    "for b1,b2 in zip(s1,s2):\n",
    " if b1!=b2:\n",
    "  if (b1,b2) in transitions:\n",
    "   ti+=1\n",
    "  else:\n",
    "   tv+=1\n",
    "print(ti/tv)\n"
   ]
  }
 ],
 "metadata": {},
 "nbformat": 4,
 "nbformat_minor": 5
}
