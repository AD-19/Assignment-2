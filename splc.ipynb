{
 "cells": [
  {
   "cell_type": "code",
   "execution_count": null,
   "metadata": {},
   "outputs": [],
   "source": [
    "#Same here, paste the input in between the '''\n",
    "s='''\n",
    "\n",
    "'''\n",
    "\n",
    "seqs=[]\n",
    "seq=''\n",
    "\n",
    "for line in s.strip().split('\\n'):\n",
    " if line.startswith('>'):\n",
    "  if seq:\n",
    "   seqs.append(seq)\n",
    "   seq=''\n",
    " else:\n",
    "  seq+=line.strip()\n",
    "\n",
    "seqs.append(seq)\n",
    "s=seqs[0]\n",
    "introns=seqs[1:]\n",
    "for intron in introns:\n",
    " s=s.replace(intron,'')\n",
    "s=s.replace('T','U')\n",
    "\n",
    "codon_table={\n",
    "'UUU':'F','CUU':'L','AUU':'I','GUU':'V',\n",
    "'UUC':'F','CUC':'L','AUC':'I','GUC':'V',\n",
    "'UUA':'L','CUA':'L','AUA':'I','GUA':'V',\n",
    "'UUG':'L','CUG':'L','AUG':'M','GUG':'V',\n",
    "'UCU':'S','CCU':'P','ACU':'T','GCU':'A',\n",
    "'UCC':'S','CCC':'P','ACC':'T','GCC':'A',\n",
    "'UCA':'S','CCA':'P','ACA':'T','GCA':'A',\n",
    "'UCG':'S','CCG':'P','ACG':'T','GCG':'A',\n",
    "'UAU':'Y','CAU':'H','AAU':'N','GAU':'D',\n",
    "'UAC':'Y','CAC':'H','AAC':'N','GAC':'D',\n",
    "'UAA':'Stop','CAA':'Q','AAA':'K','GAA':'E',\n",
    "'UAG':'Stop','CAG':'Q','AAG':'K','GAG':'E',\n",
    "'UGU':'C','CGU':'R','AGU':'S','GGU':'G',\n",
    "'UGC':'C','CGC':'R','AGC':'S','GGC':'G',\n",
    "'UGA':'Stop','CGA':'R','AGA':'R','GGA':'G',\n",
    "'UGG':'W','CGG':'R','AGG':'R','GGG':'G'}\n",
    "\n",
    "protein=''\n",
    "\n",
    "for i in range(0,len(s)-2,3):\n",
    " codon=s[i:i+3]\n",
    " amino_acid=codon_table.get(codon)\n",
    " if amino_acid=='Stop':\n",
    "  break\n",
    " if amino_acid:\n",
    "  protein+=amino_acid\n",
    "print(protein)"
   ]
  }
 ],
 "metadata": {
  "kernelspec": {
   "display_name": "Python 3",
   "language": "python",
   "name": "python3"
  },
  "language_info": {
   "codemirror_mode": {
    "name": "ipython",
    "version": 3
   },
   "file_extension": ".py",
   "mimetype": "text/x-python",
   "name": "python",
   "nbconvert_exporter": "python",
   "pygments_lexer": "ipython3",
   "version": "3.12.0"
  }
 },
 "nbformat": 4,
 "nbformat_minor": 2
}
