{
 "cells": [
  {
   "cell_type": "code",
   "execution_count": null,
   "metadata": {},
   "outputs": [],
   "source": [
    "def gen_perm(elems):\n",
    "    if len(elems) == 1:\n",
    "        return [elems]\n",
    "    resultat = []\n",
    "    for i in range(len(elems)):\n",
    "        elem = elems[i]\n",
    "        reste = elems[:i] + elems[i+1:]\n",
    "        for p in gen_perm(reste):\n",
    "            resultat.append([elem] + p)\n",
    "    return resultat\n",
    "\n",
    "n=int(input().strip())\n",
    "elems=list(range(1,n+1))\n",
    "permutations=gen_perm(elems)\n",
    "\n",
    "print(len(permutations))\n",
    "for p in permutations:\n",
    "    print(\" \".join(map(str,p)))\n",
    "\n",
    "\n",
    "#Or we could have used easily from itertools import permutations (stackoverflow)"
   ]
  }
 ],
 "metadata": {
  "kernelspec": {
   "display_name": "Python 3",
   "language": "python",
   "name": "python3"
  },
  "language_info": {
   "codemirror_mode": {
    "name": "ipython",
    "version": 3
   },
   "file_extension": ".py",
   "mimetype": "text/x-python",
   "name": "python",
   "nbconvert_exporter": "python",
   "pygments_lexer": "ipython3",
   "version": "3.12.0"
  }
 },
 "nbformat": 4,
 "nbformat_minor": 2
}
