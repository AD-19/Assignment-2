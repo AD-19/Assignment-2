{
 "cells": [
  {
   "cell_type": "code",
   "execution_count": null,
   "metadata": {},
   "outputs": [
    {
     "name": "stdout",
     "output_type": "stream",
     "text": [
      "1.9891304347826086\n"
     ]
    }
   ],
   "source": [
    "#Same here, paste the input in between the '''\n",
    "s='''\n",
    "\n",
    "'''\n",
    "seqs=[]\n",
    "seq=''\n",
    "for line in s.strip().split('\\n'):\n",
    " if line.startswith('>'):\n",
    "  if seq:\n",
    "   seqs.append(seq)\n",
    "   seq=''\n",
    " else:\n",
    "  seq+=line.strip()\n",
    "seqs.append(seq)\n",
    "\n",
    "s1,s2=seqs[0],seqs[1]\n",
    "transitions={('A','G'),('G','A'),('C','T'),('T','C')}\n",
    "ti=tv=0\n",
    "\n",
    "for b1,b2 in zip(s1,s2):\n",
    " if b1!=b2:\n",
    "  if (b1,b2) in transitions:\n",
    "   ti+=1\n",
    "  else:\n",
    "   tv+=1\n",
    "print(ti/tv)\n"
   ]
  }
 ],
 "metadata": {
  "kernelspec": {
   "display_name": "Python 3",
   "language": "python",
   "name": "python3"
  },
  "language_info": {
   "codemirror_mode": {
    "name": "ipython",
    "version": 3
   },
   "file_extension": ".py",
   "mimetype": "text/x-python",
   "name": "python",
   "nbconvert_exporter": "python",
   "pygments_lexer": "ipython3",
   "version": "3.12.0"
  }
 },
 "nbformat": 4,
 "nbformat_minor": 2
}
