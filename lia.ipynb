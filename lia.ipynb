{
 "cells": [
  {
   "cell_type": "code",
   "execution_count": 3,
   "metadata": {},
   "outputs": [
    {
     "name": "stdout",
     "output_type": "stream",
     "text": [
      "0.406\n"
     ]
    }
   ],
   "source": [
    "from math import comb #stackoverflow, otherwise could just define binomial etc\n",
    "\n",
    "def prob_au_moins(k, N):\n",
    "    total=2**k\n",
    "    p=0.25\n",
    "    prob=0\n",
    "    for i in range(N, total+1):\n",
    "        prob+=comb(total,i)*(p**i)*((1-p)**(total-i))\n",
    "    return prob\n",
    "\n",
    "k, N = map(int, input().split())\n",
    "resultat=prob_au_moins(k, N)\n",
    "print(f\"{resultat:.3f}\")\n"
   ]
  }
 ],
 "metadata": {
  "kernelspec": {
   "display_name": "Python 3",
   "language": "python",
   "name": "python3"
  },
  "language_info": {
   "codemirror_mode": {
    "name": "ipython",
    "version": 3
   },
   "file_extension": ".py",
   "mimetype": "text/x-python",
   "name": "python",
   "nbconvert_exporter": "python",
   "pygments_lexer": "ipython3",
   "version": "3.12.0"
  }
 },
 "nbformat": 4,
 "nbformat_minor": 2
}
