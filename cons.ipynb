{
 "cells": [
  {
   "cell_type": "code",
   "execution_count": null,
   "metadata": {},
   "outputs": [],
   "source": [
    "#Same here, paste the input in between the '''\n",
    "s='''\n",
    "\n",
    "'''\n",
    "\n",
    "seqs=[]\n",
    "seq=''\n",
    "\n",
    "for ligne in s.strip().split('\\n'):\n",
    " if ligne.startswith('>'):\n",
    "  if seq:\n",
    "   seqs.append(seq)\n",
    "   seq=''\n",
    " else:\n",
    "  seq+=ligne.strip()\n",
    "\n",
    "seqs.append(seq)\n",
    "n=len(seqs[0])\n",
    "profil={'A':[0]*n,'C':[0]*n,'G':[0]*n,'T':[0]*n}\n",
    "\n",
    "for seq in seqs:\n",
    " for i,nuc in enumerate(seq):\n",
    "  profil[nuc][i]+=1\n",
    "\n",
    "consensus=''\n",
    "for i in range(n):\n",
    " max_count=0\n",
    " max_nuc=''\n",
    " for nuc in 'ACGT':\n",
    "  if profil[nuc][i]>max_count:\n",
    "   max_count=profil[nuc][i]\n",
    "   max_nuc=nuc\n",
    " consensus+=max_nuc\n",
    "\n",
    "print(consensus)\n",
    "for nuc in 'ACGT':\n",
    " print(f\"{nuc}: {' '.join(map(str,profil[nuc]))}\")\n"
   ]
  }
 ],
 "metadata": {
  "kernelspec": {
   "display_name": "Python 3",
   "language": "python",
   "name": "python3"
  },
  "language_info": {
   "codemirror_mode": {
    "name": "ipython",
    "version": 3
   },
   "file_extension": ".py",
   "mimetype": "text/x-python",
   "name": "python",
   "nbconvert_exporter": "python",
   "pygments_lexer": "ipython3",
   "version": "3.12.0"
  }
 },
 "nbformat": 4,
 "nbformat_minor": 2
}
