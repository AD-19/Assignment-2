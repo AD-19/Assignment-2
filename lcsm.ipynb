{
 "cells": [
  {
   "cell_type": "code",
   "execution_count": null,
   "metadata": {},
   "outputs": [],
   "source": [
    "#Paste input between the ''' (as given in Rosalina)\n",
    "s='''\n",
    "\n",
    "'''\n",
    "\n",
    "seqs=[]\n",
    "for part in s.strip().split('>'):\n",
    " if part:\n",
    "  lines=part.strip().split('\\n')\n",
    "  seq=''.join(lines[1:])\n",
    "  seqs.append(seq)\n",
    "shortest_seq=min(seqs,key=len)\n",
    "found=False\n",
    "for length in range(len(shortest_seq),0,-1):\n",
    " for start in range(len(shortest_seq)-length+1):\n",
    "  substr=shortest_seq[start:start+length]\n",
    "  if all(substr in seq for seq in seqs):\n",
    "   print(substr)\n",
    "   found=True\n",
    "   break\n",
    " if found:\n",
    "  break\n"
   ]
  }
 ],
 "metadata": {
  "kernelspec": {
   "display_name": "Python 3",
   "language": "python",
   "name": "python3"
  },
  "language_info": {
   "codemirror_mode": {
    "name": "ipython",
    "version": 3
   },
   "file_extension": ".py",
   "mimetype": "text/x-python",
   "name": "python",
   "nbconvert_exporter": "python",
   "pygments_lexer": "ipython3",
   "version": "3.12.0"
  }
 },
 "nbformat": 4,
 "nbformat_minor": 2
}
