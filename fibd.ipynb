{
 "cells": [
  {
   "cell_type": "code",
   "execution_count": null,
   "metadata": {},
   "outputs": [
    {
     "name": "stdout",
     "output_type": "stream",
     "text": [
      "159121307718215777\n"
     ]
    }
   ],
   "source": [
    "n, m = map(int, input().split())\n",
    "ages = [0] * m\n",
    "ages[0] = 1\n",
    "for i in range(1, n):\n",
    "    new = sum(ages[1:])\n",
    "    ages = [new] + ages[:-1]\n",
    "print(sum(ages))"
   ]
  }
 ],
 "metadata": {
  "kernelspec": {
   "display_name": "Python 3",
   "language": "python",
   "name": "python3"
  },
  "language_info": {
   "codemirror_mode": {
    "name": "ipython",
    "version": 3
   },
   "file_extension": ".py",
   "mimetype": "text/x-python",
   "name": "python",
   "nbconvert_exporter": "python",
   "pygments_lexer": "ipython3",
   "version": "3.12.0"
  }
 },
 "nbformat": 4,
 "nbformat_minor": 2
}
