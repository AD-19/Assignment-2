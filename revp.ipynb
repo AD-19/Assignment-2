{
 "cells": [
  {
   "cell_type": "code",
   "execution_count": null,
   "metadata": {},
   "outputs": [],
   "source": [
    "#Same here, paste the input in between the '''\n",
    "s='''\n",
    "\n",
    "'''\n",
    "\n",
    "seqs=[]\n",
    "seq=''\n",
    "\n",
    "for line in s.strip().split('\\n'):\n",
    "    if line.startswith('>'):\n",
    "        if seq:\n",
    "            seqs.append(seq)\n",
    "            seq=''\n",
    "    else:\n",
    "        seq+=line.strip()\n",
    "\n",
    "seqs.append(seq)\n",
    "s=seqs[0]\n",
    "\n",
    "def complement_inverse(adn):\n",
    "    complement={'A':'T','T':'A','C':'G','G':'C'}\n",
    "    return ''.join(complement[base] for base in reversed(adn))\n",
    "\n",
    "resultats=[]\n",
    "for i in range(len(s)):\n",
    "    for longueur in range(4,13):  # Vérifie les longueurs de 4 à 12\n",
    "        if i+longueur<=len(s):\n",
    "            sous_sequence=s[i:i+longueur]\n",
    "            if sous_sequence==complement_inverse(sous_sequence):\n",
    "                resultats.append((i+1,longueur))\n",
    "\n",
    "for pos,longueur in resultats:\n",
    "    print(pos,longueur)\n"
   ]
  }
 ],
 "metadata": {
  "kernelspec": {
   "display_name": "Python 3",
   "language": "python",
   "name": "python3"
  },
  "language_info": {
   "codemirror_mode": {
    "name": "ipython",
    "version": 3
   },
   "file_extension": ".py",
   "mimetype": "text/x-python",
   "name": "python",
   "nbconvert_exporter": "python",
   "pygments_lexer": "ipython3",
   "version": "3.12.0"
  }
 },
 "nbformat": 4,
 "nbformat_minor": 2
}
